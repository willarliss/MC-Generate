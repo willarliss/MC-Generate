{
 "cells": [
  {
   "cell_type": "code",
   "execution_count": 1,
   "id": "1efda6ea",
   "metadata": {},
   "outputs": [],
   "source": [
    "import os\n",
    "from string import ascii_letters\n",
    "\n",
    "import numpy as np\n",
    "from sklearn.svm import LinearSVC\n",
    "from sklearn.pipeline import Pipeline\n",
    "from sklearn.naive_bayes import MultinomialNB\n",
    "from sklearn.datasets import fetch_20newsgroups\n",
    "from sklearn.feature_extraction.text import CountVectorizer, TfidfTransformer\n",
    "\n",
    "from modeling import MarkovEntropyClassification, SpectralNodeClustering, CorpusGraph"
   ]
  },
  {
   "cell_type": "code",
   "execution_count": 2,
   "id": "863899d4",
   "metadata": {},
   "outputs": [],
   "source": [
    "def clean_documents(corpus, n=None, cutoff=None):\n",
    "    \n",
    "    corpus = corpus[:n].copy()\n",
    "\n",
    "    for idx, doc in enumerate(corpus):\n",
    "\n",
    "        doc = doc.replace('\\n', ' ')\n",
    "        doc = doc.replace('\\r', ' ')\n",
    "        doc = doc.replace('\\t', ' ')\n",
    "        doc = doc.replace('>>>>', ' ')\n",
    "        \n",
    "        doc = ''.join(d.lower() for d in doc if d in ascii_letters+' ')\n",
    "        \n",
    "        doc = doc.replace('  ', ' ')\n",
    "        doc = doc.replace('  ', ' ')\n",
    "        doc = doc.replace('  ', ' ')\n",
    "            \n",
    "        corpus[idx] = doc[:cutoff]    \n",
    " \n",
    "    return np.array(corpus)\n"
   ]
  },
  {
   "cell_type": "code",
   "execution_count": 3,
   "id": "f72566df",
   "metadata": {},
   "outputs": [],
   "source": [
    "seed = 42\n",
    "#categories = ['alt.atheism', 'soc.religion.christian', 'comp.graphics', 'sci.med']\n",
    "categories = ['alt.atheism', 'soc.religion.christian']\n",
    "twenty_train = fetch_20newsgroups(subset='train', categories=categories, shuffle=True, random_state=seed)\n",
    "twenty_test = fetch_20newsgroups(subset='test', categories=categories, shuffle=True, random_state=seed)"
   ]
  },
  {
   "cell_type": "code",
   "execution_count": 4,
   "id": "022345cf",
   "metadata": {},
   "outputs": [],
   "source": [
    "tr, te = 1000, 100\n",
    "X_train = clean_documents(twenty_train.data)[:tr]\n",
    "y_train = twenty_train.target[:tr]\n",
    "\n",
    "X_test = clean_documents(twenty_test.data)[:te]\n",
    "y_test = twenty_test.target[:te]\n",
    "\n",
    "del (twenty_train, twenty_test, )"
   ]
  },
  {
   "cell_type": "markdown",
   "id": "8c5600fd",
   "metadata": {},
   "source": [
    "---\n",
    "---\n",
    "---\n",
    "# Classification"
   ]
  },
  {
   "cell_type": "markdown",
   "id": "a6ab6328",
   "metadata": {},
   "source": [
    "--- \n",
    "### MC"
   ]
  },
  {
   "cell_type": "code",
   "execution_count": 5,
   "id": "2228bf35",
   "metadata": {},
   "outputs": [],
   "source": [
    "mcc = MarkovEntropyClassification()"
   ]
  },
  {
   "cell_type": "code",
   "execution_count": 6,
   "id": "711cc33e",
   "metadata": {},
   "outputs": [
    {
     "data": {
      "text/plain": [
       "MarkovEntropyClassification()"
      ]
     },
     "execution_count": 6,
     "metadata": {},
     "output_type": "execute_result"
    }
   ],
   "source": [
    "mcc.fit(X_train, y_train)"
   ]
  },
  {
   "cell_type": "code",
   "execution_count": 7,
   "id": "3d5a30eb",
   "metadata": {},
   "outputs": [
    {
     "data": {
      "text/plain": [
       "1.0"
      ]
     },
     "execution_count": 7,
     "metadata": {},
     "output_type": "execute_result"
    }
   ],
   "source": [
    "y_hat_train = mcc.predict(X_train)\n",
    "np.mean(y_hat_train==y_train)"
   ]
  },
  {
   "cell_type": "code",
   "execution_count": 8,
   "id": "0f6e5598",
   "metadata": {},
   "outputs": [
    {
     "data": {
      "text/plain": [
       "0.92"
      ]
     },
     "execution_count": 8,
     "metadata": {},
     "output_type": "execute_result"
    }
   ],
   "source": [
    "y_hat_test = mcc.predict(X_test)\n",
    "np.mean(y_hat_test==y_test)"
   ]
  },
  {
   "cell_type": "markdown",
   "id": "ee88958b",
   "metadata": {},
   "source": [
    "---\n",
    "### Bayes"
   ]
  },
  {
   "cell_type": "code",
   "execution_count": 9,
   "id": "ac526ecb",
   "metadata": {},
   "outputs": [],
   "source": [
    "bayes = Pipeline([\n",
    "    ('count', CountVectorizer()),\n",
    "    ('tfidf', TfidfTransformer()),\n",
    "    ('bayes', MultinomialNB()),\n",
    "])"
   ]
  },
  {
   "cell_type": "code",
   "execution_count": 10,
   "id": "efb1e9e1",
   "metadata": {},
   "outputs": [
    {
     "data": {
      "text/plain": [
       "Pipeline(steps=[('count', CountVectorizer()), ('tfidf', TfidfTransformer()),\n",
       "                ('bayes', MultinomialNB())])"
      ]
     },
     "execution_count": 10,
     "metadata": {},
     "output_type": "execute_result"
    }
   ],
   "source": [
    "bayes.fit(X_train, y_train)"
   ]
  },
  {
   "cell_type": "code",
   "execution_count": 11,
   "id": "c8fa04ca",
   "metadata": {},
   "outputs": [
    {
     "data": {
      "text/plain": [
       "0.956"
      ]
     },
     "execution_count": 11,
     "metadata": {},
     "output_type": "execute_result"
    }
   ],
   "source": [
    "y_hat_train = bayes.predict(X_train)\n",
    "np.mean(y_hat_train==y_train)"
   ]
  },
  {
   "cell_type": "code",
   "execution_count": 12,
   "id": "0226965c",
   "metadata": {},
   "outputs": [
    {
     "data": {
      "text/plain": [
       "0.75"
      ]
     },
     "execution_count": 12,
     "metadata": {},
     "output_type": "execute_result"
    }
   ],
   "source": [
    "y_hat_test = bayes.predict(X_test)\n",
    "np.mean(y_hat_test==y_test)"
   ]
  },
  {
   "cell_type": "markdown",
   "id": "5b44577f",
   "metadata": {},
   "source": [
    "---\n",
    "### SVM"
   ]
  },
  {
   "cell_type": "code",
   "execution_count": 13,
   "id": "1026562a",
   "metadata": {},
   "outputs": [],
   "source": [
    "svm = Pipeline([\n",
    "    ('count', CountVectorizer()),\n",
    "    ('tfidf', TfidfTransformer()),\n",
    "    ('svc', LinearSVC()),\n",
    "])"
   ]
  },
  {
   "cell_type": "code",
   "execution_count": 14,
   "id": "0dfce760",
   "metadata": {},
   "outputs": [
    {
     "data": {
      "text/plain": [
       "Pipeline(steps=[('count', CountVectorizer()), ('tfidf', TfidfTransformer()),\n",
       "                ('svc', LinearSVC())])"
      ]
     },
     "execution_count": 14,
     "metadata": {},
     "output_type": "execute_result"
    }
   ],
   "source": [
    "svm.fit(X_train, y_train)"
   ]
  },
  {
   "cell_type": "code",
   "execution_count": 15,
   "id": "8c554349",
   "metadata": {},
   "outputs": [
    {
     "data": {
      "text/plain": [
       "0.999"
      ]
     },
     "execution_count": 15,
     "metadata": {},
     "output_type": "execute_result"
    }
   ],
   "source": [
    "y_hat_train = svm.predict(X_train)\n",
    "np.mean(y_hat_train==y_train)"
   ]
  },
  {
   "cell_type": "code",
   "execution_count": 16,
   "id": "02ed5908",
   "metadata": {},
   "outputs": [
    {
     "data": {
      "text/plain": [
       "0.92"
      ]
     },
     "execution_count": 16,
     "metadata": {},
     "output_type": "execute_result"
    }
   ],
   "source": [
    "y_hat_test = svm.predict(X_test)\n",
    "np.mean(y_hat_test==y_test)"
   ]
  },
  {
   "cell_type": "markdown",
   "id": "236b9d12",
   "metadata": {},
   "source": [
    "---"
   ]
  },
  {
   "cell_type": "code",
   "execution_count": 17,
   "id": "a63880bb",
   "metadata": {},
   "outputs": [],
   "source": [
    "del y_hat_train, y_hat_test, svm, bayes, mcc, "
   ]
  },
  {
   "cell_type": "markdown",
   "id": "45db274b",
   "metadata": {},
   "source": [
    "---\n",
    "---\n",
    "---\n",
    "# Generation"
   ]
  },
  {
   "cell_type": "code",
   "execution_count": 18,
   "id": "12b2fda0",
   "metadata": {},
   "outputs": [],
   "source": [
    "graph = CorpusGraph()"
   ]
  },
  {
   "cell_type": "code",
   "execution_count": 19,
   "id": "776de0cf",
   "metadata": {},
   "outputs": [
    {
     "data": {
      "text/plain": [
       "<modeling.graph.CorpusGraph at 0x7ff420bbf7c0>"
      ]
     },
     "execution_count": 19,
     "metadata": {},
     "output_type": "execute_result"
    }
   ],
   "source": [
    "graph.add_documents(X_train)"
   ]
  },
  {
   "cell_type": "code",
   "execution_count": 20,
   "id": "eb241688",
   "metadata": {},
   "outputs": [
    {
     "data": {
      "text/plain": [
       "'from jcopelannyxcsduedu the messenger if angels are jerks for us all sound argument my mouth of him and distribution worldpublic organization sun select geoffarnoldeastsuncom what is possible answer to meet again secondhand and not need to be quite well now is presented as well doing they will not knowing how can be fair god by asserting that at the posting by having completed the unity of time it is this is in western reserve university of georgia usa lines frankdsuucp frank odwyer subject re some of egypt god it can be specific examples can give everyone for the fact believe as'"
      ]
     },
     "execution_count": 20,
     "metadata": {},
     "output_type": "execute_result"
    }
   ],
   "source": [
    "synth = graph.sample(stochastic=True, seed=seed)\n",
    "synth"
   ]
  },
  {
   "cell_type": "code",
   "execution_count": 21,
   "id": "b35fe9bb",
   "metadata": {},
   "outputs": [
    {
     "data": {
      "text/plain": [
       "(False, False)"
      ]
     },
     "execution_count": 21,
     "metadata": {},
     "output_type": "execute_result"
    }
   ],
   "source": [
    "synth in set(X_train), synth in set(X_test)"
   ]
  },
  {
   "cell_type": "markdown",
   "id": "38710096",
   "metadata": {},
   "source": [
    "---"
   ]
  },
  {
   "cell_type": "code",
   "execution_count": 22,
   "id": "aec46207",
   "metadata": {},
   "outputs": [],
   "source": [
    "del graph, synth, "
   ]
  },
  {
   "cell_type": "markdown",
   "id": "296dfcc5",
   "metadata": {},
   "source": [
    "---\n",
    "---\n",
    "---\n",
    "# Clustering"
   ]
  },
  {
   "cell_type": "code",
   "execution_count": 23,
   "id": "2eae178f",
   "metadata": {},
   "outputs": [],
   "source": [
    "msvd = SpectralNodeClustering(max_clusters=10)"
   ]
  },
  {
   "cell_type": "code",
   "execution_count": 24,
   "id": "5b7ba958",
   "metadata": {},
   "outputs": [],
   "source": [
    "clusters_dict = msvd.fit_predict(X_train)"
   ]
  },
  {
   "cell_type": "code",
   "execution_count": 25,
   "id": "c6be3a19",
   "metadata": {},
   "outputs": [
    {
     "data": {
      "text/plain": [
       "[('from', 6),\n",
       " ('nigelallencanremcom', 2),\n",
       " ('nigel', 5),\n",
       " ('allen', 6),\n",
       " ('subject', 6),\n",
       " ('library', 0),\n",
       " ('of', 1),\n",
       " ('congress', 6),\n",
       " ('to', 2),\n",
       " ('host', 6)]"
      ]
     },
     "execution_count": 25,
     "metadata": {},
     "output_type": "execute_result"
    }
   ],
   "source": [
    "list(clusters_dict.items())[:10]"
   ]
  },
  {
   "cell_type": "markdown",
   "id": "fab89859",
   "metadata": {},
   "source": [
    "---"
   ]
  },
  {
   "cell_type": "code",
   "execution_count": 26,
   "id": "36b8705e",
   "metadata": {},
   "outputs": [],
   "source": [
    "del msvd, clusters_dict,"
   ]
  },
  {
   "cell_type": "markdown",
   "id": "2b3cb7b1",
   "metadata": {},
   "source": [
    "---\n",
    "---\n",
    "---"
   ]
  },
  {
   "cell_type": "code",
   "execution_count": null,
   "id": "8cdb945e",
   "metadata": {},
   "outputs": [],
   "source": []
  },
  {
   "cell_type": "code",
   "execution_count": null,
   "id": "9ac3d91c",
   "metadata": {},
   "outputs": [],
   "source": []
  },
  {
   "cell_type": "code",
   "execution_count": null,
   "id": "d16d8609",
   "metadata": {},
   "outputs": [],
   "source": []
  }
 ],
 "metadata": {
  "kernelspec": {
   "display_name": "Python 3 (ipykernel)",
   "language": "python",
   "name": "python3"
  },
  "language_info": {
   "codemirror_mode": {
    "name": "ipython",
    "version": 3
   },
   "file_extension": ".py",
   "mimetype": "text/x-python",
   "name": "python",
   "nbconvert_exporter": "python",
   "pygments_lexer": "ipython3",
   "version": "3.8.7"
  }
 },
 "nbformat": 4,
 "nbformat_minor": 5
}
