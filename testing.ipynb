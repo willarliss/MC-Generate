{
 "cells": [
  {
   "cell_type": "code",
   "execution_count": 1,
   "id": "1efda6ea",
   "metadata": {},
   "outputs": [],
   "source": [
    "import os\n",
    "from string import ascii_letters\n",
    "\n",
    "import numpy as np\n",
    "from sklearn.svm import LinearSVC\n",
    "from sklearn.pipeline import Pipeline\n",
    "from sklearn.naive_bayes import MultinomialNB\n",
    "from sklearn.datasets import fetch_20newsgroups\n",
    "from sklearn.feature_extraction.text import CountVectorizer, TfidfTransformer\n",
    "\n",
    "from modeling.model_api import MarkovChainCorpus"
   ]
  },
  {
   "cell_type": "code",
   "execution_count": 2,
   "id": "863899d4",
   "metadata": {},
   "outputs": [],
   "source": [
    "def clean_documents(corpus, n=None, cutoff=None):\n",
    "    \n",
    "    corpus = corpus[:n].copy()\n",
    "\n",
    "    for idx, doc in enumerate(corpus):\n",
    "\n",
    "        doc = doc.replace('\\n', ' ')\n",
    "        doc = doc.replace('\\t', ' ')\n",
    "        doc = doc.replace('>>>>', ' ')\n",
    "        \n",
    "        doc = ''.join(d.lower() for d in doc if d in ascii_letters+' ')\n",
    "        doc = ' '.join(d.strip() for d in doc.split(' '))\n",
    "            \n",
    "        corpus[idx] = doc[:cutoff]    \n",
    " \n",
    "    return np.array(corpus)\n"
   ]
  },
  {
   "cell_type": "markdown",
   "id": "4e3e29e9",
   "metadata": {},
   "source": [
    "---"
   ]
  },
  {
   "cell_type": "code",
   "execution_count": 3,
   "id": "f72566df",
   "metadata": {},
   "outputs": [],
   "source": [
    "seed = 42\n",
    "#categories = ['alt.atheism', 'soc.religion.christian', 'comp.graphics', 'sci.med']\n",
    "categories = ['alt.atheism', 'soc.religion.christian']\n",
    "twenty_train = fetch_20newsgroups(subset='train', categories=categories, shuffle=True, random_state=seed)\n",
    "twenty_test = fetch_20newsgroups(subset='test', categories=categories, shuffle=True, random_state=seed)"
   ]
  },
  {
   "cell_type": "code",
   "execution_count": 4,
   "id": "022345cf",
   "metadata": {},
   "outputs": [],
   "source": [
    "tr, te = 1000, 100\n",
    "X_train = clean_documents(twenty_train.data)[:tr]\n",
    "y_train = twenty_train.target[:tr]\n",
    "\n",
    "X_test = clean_documents(twenty_test.data)[:te]\n",
    "y_test = twenty_test.target[:te]\n",
    "\n",
    "del (twenty_train, twenty_test, )"
   ]
  },
  {
   "cell_type": "markdown",
   "id": "a6ab6328",
   "metadata": {},
   "source": [
    "---\n",
    "### MC"
   ]
  },
  {
   "cell_type": "code",
   "execution_count": 5,
   "id": "2228bf35",
   "metadata": {},
   "outputs": [],
   "source": [
    "mcc = MarkovChainCorpus()"
   ]
  },
  {
   "cell_type": "code",
   "execution_count": 6,
   "id": "6ff876e1",
   "metadata": {},
   "outputs": [
    {
     "data": {
      "text/plain": [
       "MarkovChainCorpus()"
      ]
     },
     "execution_count": 6,
     "metadata": {},
     "output_type": "execute_result"
    }
   ],
   "source": [
    "mcc.fit(X_train, y_train)"
   ]
  },
  {
   "cell_type": "code",
   "execution_count": 8,
   "id": "342d4924",
   "metadata": {},
   "outputs": [
    {
     "data": {
      "text/plain": [
       "1.0"
      ]
     },
     "execution_count": 8,
     "metadata": {},
     "output_type": "execute_result"
    }
   ],
   "source": [
    "y_hat_train = mcc.predict(X_train)\n",
    "np.mean(y_hat_train==y_train)"
   ]
  },
  {
   "cell_type": "code",
   "execution_count": 9,
   "id": "8ba06fc6",
   "metadata": {},
   "outputs": [
    {
     "data": {
      "text/plain": [
       "0.93"
      ]
     },
     "execution_count": 9,
     "metadata": {},
     "output_type": "execute_result"
    }
   ],
   "source": [
    "y_hat_test = mcc.predict(X_test)\n",
    "np.mean(y_hat_test==y_test)"
   ]
  },
  {
   "cell_type": "code",
   "execution_count": 15,
   "id": "bd913436",
   "metadata": {},
   "outputs": [
    {
     "data": {
      "text/plain": [
       "['from an omniscience didnt say murder what im saying pretty obvious physical or should not generally held to key after   priest ceasing to the good fights organization case that theyd have       the answer key after jesus would certainly a bit into the quran in these other poor analysis of my faith  the atheists are objective values        all have been some evidence of hell lines   understand your sources if that i see if you must be an if we all of the classical lewis is the flood for and so   contradict the quran is often stated in plan we would do so then you heard this a matter of the executions of scripture be true because the sheets of comparable likelihood of it anyway        well which was to someone for the sign there was he explicitly reject god exists  when committing a french a smoldering wick     comprehensive but is travelling with here but abraham knew either a smile or eggs   on the goal  overview of a cage which it is a different view first i doubt    seems silly question   ive got to justify deaththreats i am beginning of those assuptions    t  phave concrete example there are not provide some form of christianity you can    and spiritual parent families amount of native americans and many of truth   verse          i have a general is obvious that there would be saved a christian will is true simply the accusations and respond because one person argues he isnt the inimitable rushdie was not be capitalist is certainly have available from acoopermacccmacalstredu subject re gospel even in britain is so sadly such truths that most likely to say we do with islamic law where is counterconvincing  etc  vinayak   in such articles from me  if you put gall   its roots of which other arbitarily but i can  keith   heres the people who were just as depression has not use more chilling as you know because i prefer if slavery on the carrying off that i never called existence of  reads the fact live under the gold original title of having to intolerance brought up  in the categorizing     as salaam alaikum wassalam  jon  dont follow this    ']"
      ]
     },
     "execution_count": 15,
     "metadata": {},
     "output_type": "execute_result"
    }
   ],
   "source": [
    "G = mcc.graphs_[0]\n",
    "synth = G.sample(n=1, stochastic=True, seed=seed)\n",
    "synth"
   ]
  },
  {
   "cell_type": "code",
   "execution_count": 20,
   "id": "20862861",
   "metadata": {},
   "outputs": [
    {
     "data": {
      "text/plain": [
       "(False, False)"
      ]
     },
     "execution_count": 20,
     "metadata": {},
     "output_type": "execute_result"
    }
   ],
   "source": [
    "synth[0] in set(X_train), synth[0] in set(X_test)"
   ]
  },
  {
   "cell_type": "markdown",
   "id": "ee88958b",
   "metadata": {},
   "source": [
    "---\n",
    "### Bayes"
   ]
  },
  {
   "cell_type": "code",
   "execution_count": 21,
   "id": "ac526ecb",
   "metadata": {},
   "outputs": [],
   "source": [
    "bayes = Pipeline([\n",
    "    ('count', CountVectorizer()),\n",
    "    ('tfidf', TfidfTransformer()),\n",
    "    ('bayes', MultinomialNB()),\n",
    "])"
   ]
  },
  {
   "cell_type": "code",
   "execution_count": 22,
   "id": "efb1e9e1",
   "metadata": {},
   "outputs": [
    {
     "data": {
      "text/plain": [
       "Pipeline(steps=[('count', CountVectorizer()), ('tfidf', TfidfTransformer()),\n",
       "                ('bayes', MultinomialNB())])"
      ]
     },
     "execution_count": 22,
     "metadata": {},
     "output_type": "execute_result"
    }
   ],
   "source": [
    "bayes.fit(X_train, y_train)"
   ]
  },
  {
   "cell_type": "code",
   "execution_count": 23,
   "id": "3164ca2a",
   "metadata": {},
   "outputs": [
    {
     "data": {
      "text/plain": [
       "0.956"
      ]
     },
     "execution_count": 23,
     "metadata": {},
     "output_type": "execute_result"
    }
   ],
   "source": [
    "y_hat_train = bayes.predict(X_train)\n",
    "np.mean(y_hat_train==y_train)"
   ]
  },
  {
   "cell_type": "code",
   "execution_count": 24,
   "id": "9f1cbffb",
   "metadata": {},
   "outputs": [
    {
     "data": {
      "text/plain": [
       "0.75"
      ]
     },
     "execution_count": 24,
     "metadata": {},
     "output_type": "execute_result"
    }
   ],
   "source": [
    "y_hat_test = bayes.predict(X_test)\n",
    "np.mean(y_hat_test==y_test)"
   ]
  },
  {
   "cell_type": "markdown",
   "id": "5b44577f",
   "metadata": {},
   "source": [
    "---\n",
    "### SVM"
   ]
  },
  {
   "cell_type": "code",
   "execution_count": 25,
   "id": "1026562a",
   "metadata": {},
   "outputs": [],
   "source": [
    "svm = Pipeline([\n",
    "    ('count', CountVectorizer()),\n",
    "    ('tfidf', TfidfTransformer()),\n",
    "    ('svc', LinearSVC()),\n",
    "])"
   ]
  },
  {
   "cell_type": "code",
   "execution_count": 26,
   "id": "0dfce760",
   "metadata": {},
   "outputs": [
    {
     "data": {
      "text/plain": [
       "Pipeline(steps=[('count', CountVectorizer()), ('tfidf', TfidfTransformer()),\n",
       "                ('svc', LinearSVC())])"
      ]
     },
     "execution_count": 26,
     "metadata": {},
     "output_type": "execute_result"
    }
   ],
   "source": [
    "svm.fit(X_train, y_train)"
   ]
  },
  {
   "cell_type": "code",
   "execution_count": 27,
   "id": "907a4180",
   "metadata": {},
   "outputs": [
    {
     "data": {
      "text/plain": [
       "0.999"
      ]
     },
     "execution_count": 27,
     "metadata": {},
     "output_type": "execute_result"
    }
   ],
   "source": [
    "y_hat_train = svm.predict(X_train)\n",
    "np.mean(y_hat_train==y_train)"
   ]
  },
  {
   "cell_type": "code",
   "execution_count": 28,
   "id": "4d17c64b",
   "metadata": {},
   "outputs": [
    {
     "data": {
      "text/plain": [
       "0.92"
      ]
     },
     "execution_count": 28,
     "metadata": {},
     "output_type": "execute_result"
    }
   ],
   "source": [
    "y_hat_test = svm.predict(X_test)\n",
    "np.mean(y_hat_test==y_test)"
   ]
  },
  {
   "cell_type": "markdown",
   "id": "45db274b",
   "metadata": {},
   "source": [
    "---"
   ]
  },
  {
   "cell_type": "code",
   "execution_count": null,
   "id": "12b2fda0",
   "metadata": {},
   "outputs": [],
   "source": []
  },
  {
   "cell_type": "code",
   "execution_count": null,
   "id": "776de0cf",
   "metadata": {},
   "outputs": [],
   "source": []
  },
  {
   "cell_type": "code",
   "execution_count": null,
   "id": "2eae178f",
   "metadata": {},
   "outputs": [],
   "source": []
  }
 ],
 "metadata": {
  "kernelspec": {
   "display_name": "Python 3 (ipykernel)",
   "language": "python",
   "name": "python3"
  },
  "language_info": {
   "codemirror_mode": {
    "name": "ipython",
    "version": 3
   },
   "file_extension": ".py",
   "mimetype": "text/x-python",
   "name": "python",
   "nbconvert_exporter": "python",
   "pygments_lexer": "ipython3",
   "version": "3.8.7"
  }
 },
 "nbformat": 4,
 "nbformat_minor": 5
}
