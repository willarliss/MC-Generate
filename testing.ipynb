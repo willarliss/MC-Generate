{
 "cells": [
  {
   "cell_type": "code",
   "execution_count": null,
   "id": "1efda6ea",
   "metadata": {},
   "outputs": [],
   "source": [
    "import os\n",
    "from string import ascii_letters\n",
    "\n",
    "import numpy as np\n",
    "from sklearn.svm import LinearSVC\n",
    "from sklearn.pipeline import Pipeline\n",
    "from sklearn.naive_bayes import MultinomialNB\n",
    "from sklearn.datasets import fetch_20newsgroups\n",
    "from sklearn.feature_extraction.text import CountVectorizer, TfidfTransformer\n",
    "\n",
    "from modeling import MarkovEntropyClassification, MarkovSVDClustering, CorpusGraph"
   ]
  },
  {
   "cell_type": "code",
   "execution_count": null,
   "id": "863899d4",
   "metadata": {},
   "outputs": [],
   "source": [
    "def clean_documents(corpus, n=None, cutoff=None):\n",
    "    \n",
    "    corpus = corpus[:n].copy()\n",
    "\n",
    "    for idx, doc in enumerate(corpus):\n",
    "\n",
    "        doc = doc.replace('\\n', ' ')\n",
    "        doc = doc.replace('\\t', ' ')\n",
    "        doc = doc.replace('>>>>', ' ')\n",
    "        \n",
    "        doc = ''.join(d.lower() for d in doc if d in ascii_letters+' ')\n",
    "        doc = ' '.join(d.strip() for d in doc.split(' '))\n",
    "            \n",
    "        corpus[idx] = doc[:cutoff]    \n",
    " \n",
    "    return np.array(corpus)\n"
   ]
  },
  {
   "cell_type": "code",
   "execution_count": null,
   "id": "f72566df",
   "metadata": {},
   "outputs": [],
   "source": [
    "seed = 42\n",
    "#categories = ['alt.atheism', 'soc.religion.christian', 'comp.graphics', 'sci.med']\n",
    "categories = ['alt.atheism', 'soc.religion.christian']\n",
    "twenty_train = fetch_20newsgroups(subset='train', categories=categories, shuffle=True, random_state=seed)\n",
    "twenty_test = fetch_20newsgroups(subset='test', categories=categories, shuffle=True, random_state=seed)"
   ]
  },
  {
   "cell_type": "code",
   "execution_count": null,
   "id": "022345cf",
   "metadata": {},
   "outputs": [],
   "source": [
    "tr, te = 1000, 100\n",
    "X_train = clean_documents(twenty_train.data)[:tr]\n",
    "y_train = twenty_train.target[:tr]\n",
    "\n",
    "X_test = clean_documents(twenty_test.data)[:te]\n",
    "y_test = twenty_test.target[:te]\n",
    "\n",
    "del (twenty_train, twenty_test, )"
   ]
  },
  {
   "cell_type": "markdown",
   "id": "bb7ab0ce",
   "metadata": {},
   "source": [
    "---\n",
    "---\n",
    "---\n",
    "# Classification"
   ]
  },
  {
   "cell_type": "markdown",
   "id": "a6ab6328",
   "metadata": {},
   "source": [
    "--- \n",
    "### MC"
   ]
  },
  {
   "cell_type": "code",
   "execution_count": null,
   "id": "2228bf35",
   "metadata": {},
   "outputs": [],
   "source": [
    "mcc = MarkovEntropyClassification()"
   ]
  },
  {
   "cell_type": "code",
   "execution_count": null,
   "id": "711cc33e",
   "metadata": {},
   "outputs": [],
   "source": [
    "mcc.fit(X_train, y_train)"
   ]
  },
  {
   "cell_type": "code",
   "execution_count": null,
   "id": "3d5a30eb",
   "metadata": {},
   "outputs": [],
   "source": [
    "y_hat_train = mcc.predict(X_train)\n",
    "np.mean(y_hat_train==y_train)"
   ]
  },
  {
   "cell_type": "code",
   "execution_count": null,
   "id": "0f6e5598",
   "metadata": {},
   "outputs": [],
   "source": [
    "y_hat_test = mcc.predict(X_test)\n",
    "np.mean(y_hat_test==y_test)"
   ]
  },
  {
   "cell_type": "markdown",
   "id": "ee88958b",
   "metadata": {},
   "source": [
    "---\n",
    "### Bayes"
   ]
  },
  {
   "cell_type": "code",
   "execution_count": null,
   "id": "ac526ecb",
   "metadata": {},
   "outputs": [],
   "source": [
    "bayes = Pipeline([\n",
    "    ('count', CountVectorizer()),\n",
    "    ('tfidf', TfidfTransformer()),\n",
    "    ('bayes', MultinomialNB()),\n",
    "])"
   ]
  },
  {
   "cell_type": "code",
   "execution_count": null,
   "id": "efb1e9e1",
   "metadata": {},
   "outputs": [],
   "source": [
    "bayes.fit(X_train, y_train)"
   ]
  },
  {
   "cell_type": "code",
   "execution_count": null,
   "id": "c8fa04ca",
   "metadata": {},
   "outputs": [],
   "source": [
    "y_hat_train = bayes.predict(X_train)\n",
    "np.mean(y_hat_train==y_train)"
   ]
  },
  {
   "cell_type": "code",
   "execution_count": null,
   "id": "0226965c",
   "metadata": {},
   "outputs": [],
   "source": [
    "y_hat_test = bayes.predict(X_test)\n",
    "np.mean(y_hat_test==y_test)"
   ]
  },
  {
   "cell_type": "markdown",
   "id": "5b44577f",
   "metadata": {},
   "source": [
    "---\n",
    "### SVM"
   ]
  },
  {
   "cell_type": "code",
   "execution_count": null,
   "id": "1026562a",
   "metadata": {},
   "outputs": [],
   "source": [
    "svm = Pipeline([\n",
    "    ('count', CountVectorizer()),\n",
    "    ('tfidf', TfidfTransformer()),\n",
    "    ('svc', LinearSVC()),\n",
    "])"
   ]
  },
  {
   "cell_type": "code",
   "execution_count": null,
   "id": "0dfce760",
   "metadata": {},
   "outputs": [],
   "source": [
    "svm.fit(X_train, y_train)"
   ]
  },
  {
   "cell_type": "code",
   "execution_count": null,
   "id": "8c554349",
   "metadata": {},
   "outputs": [],
   "source": [
    "y_hat_train = svm.predict(X_train)\n",
    "np.mean(y_hat_train==y_train)"
   ]
  },
  {
   "cell_type": "code",
   "execution_count": null,
   "id": "02ed5908",
   "metadata": {},
   "outputs": [],
   "source": [
    "y_hat_test = svm.predict(X_test)\n",
    "np.mean(y_hat_test==y_test)"
   ]
  },
  {
   "cell_type": "markdown",
   "id": "5277922f",
   "metadata": {},
   "source": [
    "---"
   ]
  },
  {
   "cell_type": "code",
   "execution_count": null,
   "id": "74b12055",
   "metadata": {},
   "outputs": [],
   "source": [
    "del y_hat_train, y_hat_test, svm, bayes, mcc, "
   ]
  },
  {
   "cell_type": "markdown",
   "id": "45db274b",
   "metadata": {},
   "source": [
    "---\n",
    "---\n",
    "---\n",
    "# Generation"
   ]
  },
  {
   "cell_type": "code",
   "execution_count": null,
   "id": "12b2fda0",
   "metadata": {},
   "outputs": [],
   "source": [
    "graph = CorpusGraph()"
   ]
  },
  {
   "cell_type": "code",
   "execution_count": null,
   "id": "776de0cf",
   "metadata": {},
   "outputs": [],
   "source": [
    "graph.add_documents(X_train)"
   ]
  },
  {
   "cell_type": "code",
   "execution_count": null,
   "id": "5f75941b",
   "metadata": {},
   "outputs": [],
   "source": [
    "synth = graph.sample(n=1, stochastic=True, seed=seed)\n",
    "synth[0]"
   ]
  },
  {
   "cell_type": "code",
   "execution_count": null,
   "id": "f9c35122",
   "metadata": {},
   "outputs": [],
   "source": [
    "synth[0] in set(X_train), synth[0] in set(X_test)"
   ]
  },
  {
   "cell_type": "markdown",
   "id": "9d137ffb",
   "metadata": {},
   "source": [
    "---"
   ]
  },
  {
   "cell_type": "code",
   "execution_count": null,
   "id": "e9a48d67",
   "metadata": {},
   "outputs": [],
   "source": [
    "del graph, synth, "
   ]
  },
  {
   "cell_type": "markdown",
   "id": "e7ce2829",
   "metadata": {},
   "source": [
    "---\n",
    "---\n",
    "---\n",
    "# Clustering"
   ]
  },
  {
   "cell_type": "code",
   "execution_count": null,
   "id": "2eae178f",
   "metadata": {},
   "outputs": [],
   "source": [
    "msvd = MarkovSVDClustering(max_clusters=10)"
   ]
  },
  {
   "cell_type": "code",
   "execution_count": null,
   "id": "f0312935",
   "metadata": {},
   "outputs": [],
   "source": [
    "msvd.fit(X_train)"
   ]
  },
  {
   "cell_type": "code",
   "execution_count": null,
   "id": "2e7c8e69",
   "metadata": {},
   "outputs": [],
   "source": [
    "clusters_dict = msvd.predict()"
   ]
  },
  {
   "cell_type": "code",
   "execution_count": null,
   "id": "f714c181",
   "metadata": {},
   "outputs": [],
   "source": [
    "list(clusters_dict.items())[:10]"
   ]
  },
  {
   "cell_type": "markdown",
   "id": "19f8f5df",
   "metadata": {},
   "source": [
    "---"
   ]
  },
  {
   "cell_type": "code",
   "execution_count": null,
   "id": "10233f61",
   "metadata": {},
   "outputs": [],
   "source": [
    "del msvd, clusters_dict,"
   ]
  },
  {
   "cell_type": "markdown",
   "id": "384fd4c7",
   "metadata": {},
   "source": [
    "---\n",
    "---\n",
    "---"
   ]
  },
  {
   "cell_type": "code",
   "execution_count": null,
   "id": "ca3c70ae",
   "metadata": {},
   "outputs": [],
   "source": []
  },
  {
   "cell_type": "code",
   "execution_count": null,
   "id": "00ec1484",
   "metadata": {},
   "outputs": [],
   "source": []
  },
  {
   "cell_type": "code",
   "execution_count": null,
   "id": "2a2810f0",
   "metadata": {},
   "outputs": [],
   "source": []
  }
 ],
 "metadata": {
  "kernelspec": {
   "display_name": "Python 3 (ipykernel)",
   "language": "python",
   "name": "python3"
  },
  "language_info": {
   "codemirror_mode": {
    "name": "ipython",
    "version": 3
   },
   "file_extension": ".py",
   "mimetype": "text/x-python",
   "name": "python",
   "nbconvert_exporter": "python",
   "pygments_lexer": "ipython3",
   "version": "3.8.7"
  }
 },
 "nbformat": 4,
 "nbformat_minor": 5
}
