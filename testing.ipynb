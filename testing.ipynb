{
 "cells": [
  {
   "cell_type": "code",
   "execution_count": 1,
   "id": "1efda6ea",
   "metadata": {},
   "outputs": [],
   "source": [
    "import os\n",
    "from string import ascii_letters\n",
    "\n",
    "import numpy as np\n",
    "from sklearn.svm import LinearSVC\n",
    "from sklearn.pipeline import Pipeline\n",
    "from sklearn.naive_bayes import MultinomialNB\n",
    "from sklearn.datasets import fetch_20newsgroups\n",
    "from sklearn.feature_extraction.text import CountVectorizer, TfidfTransformer\n",
    "\n",
    "from modeling import MarkovEntropyClassification"
   ]
  },
  {
   "cell_type": "code",
   "execution_count": 2,
   "id": "863899d4",
   "metadata": {},
   "outputs": [],
   "source": [
    "def clean_documents(corpus, n=None, cutoff=None):\n",
    "    \n",
    "    corpus = corpus[:n].copy()\n",
    "\n",
    "    for idx, doc in enumerate(corpus):\n",
    "\n",
    "        doc = doc.replace('\\n', ' ')\n",
    "        doc = doc.replace('\\t', ' ')\n",
    "        doc = doc.replace('>>>>', ' ')\n",
    "        \n",
    "        doc = ''.join(d.lower() for d in doc if d in ascii_letters+' ')\n",
    "        doc = ' '.join(d.strip() for d in doc.split(' '))\n",
    "            \n",
    "        corpus[idx] = doc[:cutoff]    \n",
    " \n",
    "    return np.array(corpus)\n"
   ]
  },
  {
   "cell_type": "markdown",
   "id": "4e3e29e9",
   "metadata": {},
   "source": [
    "---"
   ]
  },
  {
   "cell_type": "code",
   "execution_count": null,
   "id": "f72566df",
   "metadata": {},
   "outputs": [],
   "source": [
    "seed = 42\n",
    "#categories = ['alt.atheism', 'soc.religion.christian', 'comp.graphics', 'sci.med']\n",
    "categories = ['alt.atheism', 'soc.religion.christian']\n",
    "twenty_train = fetch_20newsgroups(subset='train', categories=categories, shuffle=True, random_state=seed)\n",
    "twenty_test = fetch_20newsgroups(subset='test', categories=categories, shuffle=True, random_state=seed)"
   ]
  },
  {
   "cell_type": "code",
   "execution_count": null,
   "id": "022345cf",
   "metadata": {},
   "outputs": [],
   "source": [
    "tr, te = 1000, 100\n",
    "X_train = clean_documents(twenty_train.data)[:tr]\n",
    "y_train = twenty_train.target[:tr]\n",
    "\n",
    "X_test = clean_documents(twenty_test.data)[:te]\n",
    "y_test = twenty_test.target[:te]\n",
    "\n",
    "del (twenty_train, twenty_test, )"
   ]
  },
  {
   "cell_type": "markdown",
   "id": "a6ab6328",
   "metadata": {},
   "source": [
    "---\n",
    "### MC"
   ]
  },
  {
   "cell_type": "code",
   "execution_count": null,
   "id": "2228bf35",
   "metadata": {},
   "outputs": [],
   "source": [
    "mcc = MarkovChainCorpus()"
   ]
  },
  {
   "cell_type": "code",
   "execution_count": null,
   "id": "711cc33e",
   "metadata": {},
   "outputs": [],
   "source": [
    "mcc.fit(X_train, y_train)"
   ]
  },
  {
   "cell_type": "code",
   "execution_count": null,
   "id": "3d5a30eb",
   "metadata": {},
   "outputs": [],
   "source": [
    "y_hat_train = mcc.predict(X_train)\n",
    "np.mean(y_hat_train==y_train)"
   ]
  },
  {
   "cell_type": "code",
   "execution_count": null,
   "id": "0f6e5598",
   "metadata": {},
   "outputs": [],
   "source": [
    "y_hat_test = mcc.predict(X_test)\n",
    "np.mean(y_hat_test==y_test)"
   ]
  },
  {
   "cell_type": "code",
   "execution_count": null,
   "id": "13d7d832",
   "metadata": {},
   "outputs": [],
   "source": [
    "G = mcc.graphs_[0]\n",
    "synth = G.sample(n=1, stochastic=True, seed=seed)\n",
    "synth"
   ]
  },
  {
   "cell_type": "code",
   "execution_count": null,
   "id": "f85053d4",
   "metadata": {},
   "outputs": [],
   "source": [
    "synth[0] in set(X_train), synth[0] in set(X_test)"
   ]
  },
  {
   "cell_type": "markdown",
   "id": "ee88958b",
   "metadata": {},
   "source": [
    "---\n",
    "### Bayes"
   ]
  },
  {
   "cell_type": "code",
   "execution_count": null,
   "id": "ac526ecb",
   "metadata": {},
   "outputs": [],
   "source": [
    "bayes = Pipeline([\n",
    "    ('count', CountVectorizer()),\n",
    "    ('tfidf', TfidfTransformer()),\n",
    "    ('bayes', MultinomialNB()),\n",
    "])"
   ]
  },
  {
   "cell_type": "code",
   "execution_count": null,
   "id": "efb1e9e1",
   "metadata": {},
   "outputs": [],
   "source": [
    "bayes.fit(X_train, y_train)"
   ]
  },
  {
   "cell_type": "code",
   "execution_count": null,
   "id": "c8fa04ca",
   "metadata": {},
   "outputs": [],
   "source": [
    "y_hat_train = bayes.predict(X_train)\n",
    "np.mean(y_hat_train==y_train)"
   ]
  },
  {
   "cell_type": "code",
   "execution_count": null,
   "id": "0226965c",
   "metadata": {},
   "outputs": [],
   "source": [
    "y_hat_test = bayes.predict(X_test)\n",
    "np.mean(y_hat_test==y_test)"
   ]
  },
  {
   "cell_type": "markdown",
   "id": "5b44577f",
   "metadata": {},
   "source": [
    "---\n",
    "### SVM"
   ]
  },
  {
   "cell_type": "code",
   "execution_count": null,
   "id": "1026562a",
   "metadata": {},
   "outputs": [],
   "source": [
    "svm = Pipeline([\n",
    "    ('count', CountVectorizer()),\n",
    "    ('tfidf', TfidfTransformer()),\n",
    "    ('svc', LinearSVC()),\n",
    "])"
   ]
  },
  {
   "cell_type": "code",
   "execution_count": null,
   "id": "0dfce760",
   "metadata": {},
   "outputs": [],
   "source": [
    "svm.fit(X_train, y_train)"
   ]
  },
  {
   "cell_type": "code",
   "execution_count": null,
   "id": "8c554349",
   "metadata": {},
   "outputs": [],
   "source": [
    "y_hat_train = svm.predict(X_train)\n",
    "np.mean(y_hat_train==y_train)"
   ]
  },
  {
   "cell_type": "code",
   "execution_count": null,
   "id": "02ed5908",
   "metadata": {},
   "outputs": [],
   "source": [
    "y_hat_test = svm.predict(X_test)\n",
    "np.mean(y_hat_test==y_test)"
   ]
  },
  {
   "cell_type": "markdown",
   "id": "45db274b",
   "metadata": {},
   "source": [
    "---"
   ]
  },
  {
   "cell_type": "code",
   "execution_count": null,
   "id": "12b2fda0",
   "metadata": {},
   "outputs": [],
   "source": []
  },
  {
   "cell_type": "code",
   "execution_count": null,
   "id": "776de0cf",
   "metadata": {},
   "outputs": [],
   "source": []
  },
  {
   "cell_type": "code",
   "execution_count": null,
   "id": "2eae178f",
   "metadata": {},
   "outputs": [],
   "source": []
  }
 ],
 "metadata": {
  "kernelspec": {
   "display_name": "Python 3 (ipykernel)",
   "language": "python",
   "name": "python3"
  },
  "language_info": {
   "codemirror_mode": {
    "name": "ipython",
    "version": 3
   },
   "file_extension": ".py",
   "mimetype": "text/x-python",
   "name": "python",
   "nbconvert_exporter": "python",
   "pygments_lexer": "ipython3",
   "version": "3.8.7"
  }
 },
 "nbformat": 4,
 "nbformat_minor": 5
}
