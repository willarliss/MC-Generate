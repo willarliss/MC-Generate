{
 "cells": [
  {
   "cell_type": "code",
   "execution_count": 1,
   "id": "1efda6ea",
   "metadata": {},
   "outputs": [],
   "source": [
    "import os\n",
    "from string import ascii_letters\n",
    "\n",
    "import numpy as np\n",
    "from sklearn.svm import LinearSVC\n",
    "from sklearn.pipeline import Pipeline\n",
    "from sklearn.naive_bayes import MultinomialNB\n",
    "from sklearn.datasets import fetch_20newsgroups\n",
    "from sklearn.feature_extraction.text import CountVectorizer, TfidfTransformer\n",
    "\n",
    "from modeling import MarkovEntropyClassification, SpectralNodeClustering, CorpusGraph"
   ]
  },
  {
   "cell_type": "code",
   "execution_count": 2,
   "id": "863899d4",
   "metadata": {},
   "outputs": [],
   "source": [
    "def clean_documents(corpus, n=None, cutoff=None):\n",
    "    \n",
    "    corpus = corpus[:n].copy()\n",
    "\n",
    "    for idx, doc in enumerate(corpus):\n",
    "\n",
    "        doc = doc.replace('\\n', ' ')\n",
    "        doc = doc.replace('\\t', ' ')\n",
    "        doc = doc.replace('>>>>', ' ')\n",
    "        \n",
    "        doc = ''.join(d.lower() for d in doc if d in ascii_letters+' ')\n",
    "        doc = ' '.join(d.strip() for d in doc.split(' '))\n",
    "            \n",
    "        corpus[idx] = doc[:cutoff]    \n",
    " \n",
    "    return np.array(corpus)\n"
   ]
  },
  {
   "cell_type": "code",
   "execution_count": 3,
   "id": "f72566df",
   "metadata": {},
   "outputs": [],
   "source": [
    "seed = 42\n",
    "#categories = ['alt.atheism', 'soc.religion.christian', 'comp.graphics', 'sci.med']\n",
    "categories = ['alt.atheism', 'soc.religion.christian']\n",
    "twenty_train = fetch_20newsgroups(subset='train', categories=categories, shuffle=True, random_state=seed)\n",
    "twenty_test = fetch_20newsgroups(subset='test', categories=categories, shuffle=True, random_state=seed)"
   ]
  },
  {
   "cell_type": "code",
   "execution_count": 4,
   "id": "022345cf",
   "metadata": {},
   "outputs": [],
   "source": [
    "tr, te = 1000, 100\n",
    "X_train = clean_documents(twenty_train.data)[:tr]\n",
    "y_train = twenty_train.target[:tr]\n",
    "\n",
    "X_test = clean_documents(twenty_test.data)[:te]\n",
    "y_test = twenty_test.target[:te]\n",
    "\n",
    "del (twenty_train, twenty_test, )"
   ]
  },
  {
   "cell_type": "markdown",
   "id": "8c5600fd",
   "metadata": {},
   "source": [
    "---\n",
    "---\n",
    "---\n",
    "# Classification"
   ]
  },
  {
   "cell_type": "markdown",
   "id": "a6ab6328",
   "metadata": {},
   "source": [
    "--- \n",
    "### MC"
   ]
  },
  {
   "cell_type": "code",
   "execution_count": 5,
   "id": "2228bf35",
   "metadata": {},
   "outputs": [],
   "source": [
    "mcc = MarkovEntropyClassification()"
   ]
  },
  {
   "cell_type": "code",
   "execution_count": 6,
   "id": "711cc33e",
   "metadata": {},
   "outputs": [
    {
     "data": {
      "text/plain": [
       "MarkovEntropyClassification()"
      ]
     },
     "execution_count": 6,
     "metadata": {},
     "output_type": "execute_result"
    }
   ],
   "source": [
    "mcc.fit(X_train, y_train)"
   ]
  },
  {
   "cell_type": "code",
   "execution_count": 7,
   "id": "3d5a30eb",
   "metadata": {},
   "outputs": [
    {
     "data": {
      "text/plain": [
       "1.0"
      ]
     },
     "execution_count": 7,
     "metadata": {},
     "output_type": "execute_result"
    }
   ],
   "source": [
    "y_hat_train = mcc.predict(X_train)\n",
    "np.mean(y_hat_train==y_train)"
   ]
  },
  {
   "cell_type": "code",
   "execution_count": 8,
   "id": "0f6e5598",
   "metadata": {},
   "outputs": [
    {
     "data": {
      "text/plain": [
       "0.93"
      ]
     },
     "execution_count": 8,
     "metadata": {},
     "output_type": "execute_result"
    }
   ],
   "source": [
    "y_hat_test = mcc.predict(X_test)\n",
    "np.mean(y_hat_test==y_test)"
   ]
  },
  {
   "cell_type": "markdown",
   "id": "ee88958b",
   "metadata": {},
   "source": [
    "---\n",
    "### Bayes"
   ]
  },
  {
   "cell_type": "code",
   "execution_count": 9,
   "id": "ac526ecb",
   "metadata": {},
   "outputs": [],
   "source": [
    "bayes = Pipeline([\n",
    "    ('count', CountVectorizer()),\n",
    "    ('tfidf', TfidfTransformer()),\n",
    "    ('bayes', MultinomialNB()),\n",
    "])"
   ]
  },
  {
   "cell_type": "code",
   "execution_count": 10,
   "id": "efb1e9e1",
   "metadata": {},
   "outputs": [
    {
     "data": {
      "text/plain": [
       "Pipeline(steps=[('count', CountVectorizer()), ('tfidf', TfidfTransformer()),\n",
       "                ('bayes', MultinomialNB())])"
      ]
     },
     "execution_count": 10,
     "metadata": {},
     "output_type": "execute_result"
    }
   ],
   "source": [
    "bayes.fit(X_train, y_train)"
   ]
  },
  {
   "cell_type": "code",
   "execution_count": 11,
   "id": "c8fa04ca",
   "metadata": {},
   "outputs": [
    {
     "data": {
      "text/plain": [
       "0.956"
      ]
     },
     "execution_count": 11,
     "metadata": {},
     "output_type": "execute_result"
    }
   ],
   "source": [
    "y_hat_train = bayes.predict(X_train)\n",
    "np.mean(y_hat_train==y_train)"
   ]
  },
  {
   "cell_type": "code",
   "execution_count": 12,
   "id": "0226965c",
   "metadata": {},
   "outputs": [
    {
     "data": {
      "text/plain": [
       "0.75"
      ]
     },
     "execution_count": 12,
     "metadata": {},
     "output_type": "execute_result"
    }
   ],
   "source": [
    "y_hat_test = bayes.predict(X_test)\n",
    "np.mean(y_hat_test==y_test)"
   ]
  },
  {
   "cell_type": "markdown",
   "id": "5b44577f",
   "metadata": {},
   "source": [
    "---\n",
    "### SVM"
   ]
  },
  {
   "cell_type": "code",
   "execution_count": 13,
   "id": "1026562a",
   "metadata": {},
   "outputs": [],
   "source": [
    "svm = Pipeline([\n",
    "    ('count', CountVectorizer()),\n",
    "    ('tfidf', TfidfTransformer()),\n",
    "    ('svc', LinearSVC()),\n",
    "])"
   ]
  },
  {
   "cell_type": "code",
   "execution_count": 14,
   "id": "0dfce760",
   "metadata": {},
   "outputs": [
    {
     "data": {
      "text/plain": [
       "Pipeline(steps=[('count', CountVectorizer()), ('tfidf', TfidfTransformer()),\n",
       "                ('svc', LinearSVC())])"
      ]
     },
     "execution_count": 14,
     "metadata": {},
     "output_type": "execute_result"
    }
   ],
   "source": [
    "svm.fit(X_train, y_train)"
   ]
  },
  {
   "cell_type": "code",
   "execution_count": 15,
   "id": "8c554349",
   "metadata": {},
   "outputs": [
    {
     "data": {
      "text/plain": [
       "0.999"
      ]
     },
     "execution_count": 15,
     "metadata": {},
     "output_type": "execute_result"
    }
   ],
   "source": [
    "y_hat_train = svm.predict(X_train)\n",
    "np.mean(y_hat_train==y_train)"
   ]
  },
  {
   "cell_type": "code",
   "execution_count": 16,
   "id": "02ed5908",
   "metadata": {},
   "outputs": [
    {
     "data": {
      "text/plain": [
       "0.92"
      ]
     },
     "execution_count": 16,
     "metadata": {},
     "output_type": "execute_result"
    }
   ],
   "source": [
    "y_hat_test = svm.predict(X_test)\n",
    "np.mean(y_hat_test==y_test)"
   ]
  },
  {
   "cell_type": "markdown",
   "id": "236b9d12",
   "metadata": {},
   "source": [
    "---"
   ]
  },
  {
   "cell_type": "code",
   "execution_count": 17,
   "id": "a63880bb",
   "metadata": {},
   "outputs": [],
   "source": [
    "del y_hat_train, y_hat_test, svm, bayes, mcc, "
   ]
  },
  {
   "cell_type": "markdown",
   "id": "45db274b",
   "metadata": {},
   "source": [
    "---\n",
    "---\n",
    "---\n",
    "# Generation"
   ]
  },
  {
   "cell_type": "code",
   "execution_count": 18,
   "id": "12b2fda0",
   "metadata": {},
   "outputs": [],
   "source": [
    "graph = CorpusGraph()"
   ]
  },
  {
   "cell_type": "code",
   "execution_count": 19,
   "id": "776de0cf",
   "metadata": {},
   "outputs": [
    {
     "data": {
      "text/plain": [
       "<modeling.mc_corpus.CorpusGraph at 0x7fafcae224f0>"
      ]
     },
     "execution_count": 19,
     "metadata": {},
     "output_type": "execute_result"
    }
   ],
   "source": [
    "graph.add_documents(X_train)"
   ]
  },
  {
   "cell_type": "code",
   "execution_count": 20,
   "id": "eb241688",
   "metadata": {},
   "outputs": [
    {
     "data": {
      "text/plain": [
       "'from them now and  cross as inspired translation   borne our lack of a means that most atheists dont understand even fun and i have been found to embrace what about the idea of the old and arrogance of thousands of technology  now if we see if you read bible says anything other way is your heart so is that should believe that he is a whole that it falls on the man is wrong and because of an avenue open   i have to a simple set of us  the jewish population  learning  this is amazing unparalleled predictions was   example of the sun starts with why jesus didnt  the body temporarily become atheists organization tektronix inc lines    me and you describe it fits with water    atheists views on the real problem   internet deonstrydomfnzfidonetorg deon strydom writes  '"
      ]
     },
     "execution_count": 20,
     "metadata": {},
     "output_type": "execute_result"
    }
   ],
   "source": [
    "synth = graph.sample(n=1, stochastic=True, seed=seed)\n",
    "synth[0]"
   ]
  },
  {
   "cell_type": "code",
   "execution_count": 21,
   "id": "b35fe9bb",
   "metadata": {},
   "outputs": [
    {
     "data": {
      "text/plain": [
       "(False, False)"
      ]
     },
     "execution_count": 21,
     "metadata": {},
     "output_type": "execute_result"
    }
   ],
   "source": [
    "synth[0] in set(X_train), synth[0] in set(X_test)"
   ]
  },
  {
   "cell_type": "markdown",
   "id": "38710096",
   "metadata": {},
   "source": [
    "---"
   ]
  },
  {
   "cell_type": "code",
   "execution_count": 22,
   "id": "aec46207",
   "metadata": {},
   "outputs": [],
   "source": [
    "del graph, synth, "
   ]
  },
  {
   "cell_type": "markdown",
   "id": "296dfcc5",
   "metadata": {},
   "source": [
    "---\n",
    "---\n",
    "---\n",
    "# Clustering"
   ]
  },
  {
   "cell_type": "code",
   "execution_count": 23,
   "id": "2eae178f",
   "metadata": {},
   "outputs": [],
   "source": [
    "msvd = SpectralNodeClustering(max_clusters=10)"
   ]
  },
  {
   "cell_type": "code",
   "execution_count": 24,
   "id": "f3fc966e",
   "metadata": {},
   "outputs": [],
   "source": [
    "clusters_dict = msvd.fit_predict(X_train)"
   ]
  },
  {
   "cell_type": "code",
   "execution_count": 25,
   "id": "148e60d9",
   "metadata": {},
   "outputs": [
    {
     "data": {
      "text/plain": [
       "[('from', 4),\n",
       " ('nigelallencanremcom', 6),\n",
       " ('nigel', 3),\n",
       " ('allen', 4),\n",
       " ('subject', 4),\n",
       " ('library', 3),\n",
       " ('of', 1),\n",
       " ('congress', 6),\n",
       " ('to', 4),\n",
       " ('host', 6)]"
      ]
     },
     "execution_count": 25,
     "metadata": {},
     "output_type": "execute_result"
    }
   ],
   "source": [
    "list(clusters_dict.items())[:10]"
   ]
  },
  {
   "cell_type": "markdown",
   "id": "fab89859",
   "metadata": {},
   "source": [
    "---"
   ]
  },
  {
   "cell_type": "code",
   "execution_count": 26,
   "id": "e87988db",
   "metadata": {},
   "outputs": [],
   "source": [
    "del msvd, clusters_dict,"
   ]
  },
  {
   "cell_type": "markdown",
   "id": "2b3cb7b1",
   "metadata": {},
   "source": [
    "---\n",
    "---\n",
    "---"
   ]
  },
  {
   "cell_type": "code",
   "execution_count": null,
   "id": "8cdb945e",
   "metadata": {},
   "outputs": [],
   "source": []
  },
  {
   "cell_type": "code",
   "execution_count": null,
   "id": "9ac3d91c",
   "metadata": {},
   "outputs": [],
   "source": []
  },
  {
   "cell_type": "code",
   "execution_count": null,
   "id": "d16d8609",
   "metadata": {},
   "outputs": [],
   "source": []
  }
 ],
 "metadata": {
  "kernelspec": {
   "display_name": "Python 3 (ipykernel)",
   "language": "python",
   "name": "python3"
  },
  "language_info": {
   "codemirror_mode": {
    "name": "ipython",
    "version": 3
   },
   "file_extension": ".py",
   "mimetype": "text/x-python",
   "name": "python",
   "nbconvert_exporter": "python",
   "pygments_lexer": "ipython3",
   "version": "3.8.7"
  }
 },
 "nbformat": 4,
 "nbformat_minor": 5
}
