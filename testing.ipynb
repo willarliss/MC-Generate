{
 "cells": [
  {
   "cell_type": "code",
   "execution_count": 1,
   "id": "1efda6ea",
   "metadata": {},
   "outputs": [],
   "source": [
    "import os\n",
    "from string import ascii_letters\n",
    "\n",
    "import numpy as np\n",
    "from sklearn.svm import LinearSVC\n",
    "from sklearn.pipeline import Pipeline\n",
    "from sklearn.naive_bayes import MultinomialNB\n",
    "from sklearn.datasets import fetch_20newsgroups\n",
    "from sklearn.feature_extraction.text import CountVectorizer, TfidfTransformer\n",
    "\n",
    "from modeling.mc_corpus import CorpusGraph\n",
    "from modeling.utils import membership"
   ]
  },
  {
   "cell_type": "code",
   "execution_count": 2,
   "id": "863899d4",
   "metadata": {},
   "outputs": [],
   "source": [
    "def clean_documents(corpus, n=None, cutoff=None):\n",
    "    \n",
    "    corpus = corpus[:n].copy()\n",
    "\n",
    "    for idx, doc in enumerate(corpus):\n",
    "\n",
    "        doc = doc.replace('\\n', ' ')\n",
    "        doc = doc.replace('\\t', ' ')\n",
    "        doc = doc.replace('>>>>', ' ')\n",
    "        \n",
    "        doc = ''.join(d.lower() for d in doc if d in ascii_letters+' ')\n",
    "        doc = ' '.join(d.strip() for d in doc.split(' '))\n",
    "            \n",
    "        corpus[idx] = doc[:cutoff]    \n",
    " \n",
    "    return np.array(corpus)\n"
   ]
  },
  {
   "cell_type": "code",
   "execution_count": 3,
   "id": "e1901e72",
   "metadata": {},
   "outputs": [],
   "source": [
    "def predict(graphs, documents):\n",
    "    \n",
    "    return np.argmax(\n",
    "        [membership(graphs, doc) for doc in documents], \n",
    "        axis=1,\n",
    "    )\n",
    "    "
   ]
  },
  {
   "cell_type": "markdown",
   "id": "4e3e29e9",
   "metadata": {},
   "source": [
    "---"
   ]
  },
  {
   "cell_type": "code",
   "execution_count": 4,
   "id": "f72566df",
   "metadata": {},
   "outputs": [],
   "source": [
    "seed = 42\n",
    "#categories = ['alt.atheism', 'soc.religion.christian', 'comp.graphics', 'sci.med']\n",
    "categories = ['alt.atheism', 'soc.religion.christian']\n",
    "twenty_train = fetch_20newsgroups(subset='train', categories=categories, shuffle=True, random_state=seed)\n",
    "twenty_test = fetch_20newsgroups(subset='test', categories=categories, shuffle=True, random_state=seed)"
   ]
  },
  {
   "cell_type": "code",
   "execution_count": 5,
   "id": "022345cf",
   "metadata": {},
   "outputs": [],
   "source": [
    "X_train = clean_documents(twenty_train.data)\n",
    "y_train = twenty_train.target\n",
    "\n",
    "X_test = clean_documents(twenty_test.data)\n",
    "y_test = twenty_test.target\n",
    "\n",
    "del (twenty_train, twenty_test, )"
   ]
  },
  {
   "cell_type": "markdown",
   "id": "a6ab6328",
   "metadata": {},
   "source": [
    "---\n",
    "### MC"
   ]
  },
  {
   "cell_type": "code",
   "execution_count": 9,
   "id": "2228bf35",
   "metadata": {},
   "outputs": [],
   "source": [
    "G0 = CorpusGraph().add_documents(X_train[y_train==0])\n",
    "G1 = CorpusGraph().add_documents(X_train[y_train==1])"
   ]
  },
  {
   "cell_type": "code",
   "execution_count": 10,
   "id": "36b3acf0",
   "metadata": {},
   "outputs": [
    {
     "data": {
      "text/plain": [
       "0.9990732159406858"
      ]
     },
     "execution_count": 10,
     "metadata": {},
     "output_type": "execute_result"
    }
   ],
   "source": [
    "y_train_pred = predict([G0, G1], X_train)\n",
    "np.mean(y_train_pred==y_train)"
   ]
  },
  {
   "cell_type": "code",
   "execution_count": 11,
   "id": "2571d953",
   "metadata": {},
   "outputs": [
    {
     "data": {
      "text/plain": [
       "0.9316596931659693"
      ]
     },
     "execution_count": 11,
     "metadata": {},
     "output_type": "execute_result"
    }
   ],
   "source": [
    "y_test_pred = predict([G0, G1], X_test)\n",
    "np.mean(y_test_pred==y_test)"
   ]
  },
  {
   "cell_type": "code",
   "execution_count": 12,
   "id": "f8f59aee",
   "metadata": {
    "scrolled": true
   },
   "outputs": [
    {
     "data": {
      "text/plain": [
       "['from jaegerbuphybuedu gregg jaeger writes you might talk show signs whatever it like little to me wrong and one thing   the stories and therefore received courtesy in general that of the others and yes  however maternity leave on mark goes into a series of any of thinking what have values that it is also my claim to find a    the quran did you will name calling loans than those things which make possible ']"
      ]
     },
     "execution_count": 12,
     "metadata": {},
     "output_type": "execute_result"
    }
   ],
   "source": [
    "G0.sample(n=1, stochastic=True, seed=0)"
   ]
  },
  {
   "cell_type": "markdown",
   "id": "ee88958b",
   "metadata": {},
   "source": [
    "---\n",
    "### Bayes"
   ]
  },
  {
   "cell_type": "code",
   "execution_count": 13,
   "id": "ac526ecb",
   "metadata": {},
   "outputs": [],
   "source": [
    "pipe = Pipeline([\n",
    "    ('count', CountVectorizer()),\n",
    "    ('tfidf', TfidfTransformer()),\n",
    "    ('bayes', MultinomialNB()),\n",
    "])"
   ]
  },
  {
   "cell_type": "code",
   "execution_count": 14,
   "id": "efb1e9e1",
   "metadata": {},
   "outputs": [],
   "source": [
    "pipe.fit(X_train, y_train);"
   ]
  },
  {
   "cell_type": "code",
   "execution_count": 15,
   "id": "8f9c612a",
   "metadata": {},
   "outputs": [
    {
     "data": {
      "text/plain": [
       "0.9499536607970342"
      ]
     },
     "execution_count": 15,
     "metadata": {},
     "output_type": "execute_result"
    }
   ],
   "source": [
    "y_train_pred = pipe.predict(X_train)\n",
    "np.mean(y_train_pred==y_train)"
   ]
  },
  {
   "cell_type": "code",
   "execution_count": 16,
   "id": "2710bb43",
   "metadata": {},
   "outputs": [
    {
     "data": {
      "text/plain": [
       "0.7949790794979079"
      ]
     },
     "execution_count": 16,
     "metadata": {},
     "output_type": "execute_result"
    }
   ],
   "source": [
    "y_test_pred = pipe.predict(X_test)\n",
    "np.mean(y_test_pred==y_test)"
   ]
  },
  {
   "cell_type": "markdown",
   "id": "5b44577f",
   "metadata": {},
   "source": [
    "---\n",
    "### SVM"
   ]
  },
  {
   "cell_type": "code",
   "execution_count": 17,
   "id": "1026562a",
   "metadata": {},
   "outputs": [],
   "source": [
    "pipe = Pipeline([\n",
    "    ('count', CountVectorizer()),\n",
    "    ('tfidf', TfidfTransformer()),\n",
    "    ('bayes', LinearSVC()),\n",
    "])"
   ]
  },
  {
   "cell_type": "code",
   "execution_count": 18,
   "id": "0dfce760",
   "metadata": {},
   "outputs": [],
   "source": [
    "pipe.fit(X_train, y_train);"
   ]
  },
  {
   "cell_type": "code",
   "execution_count": 19,
   "id": "83adb474",
   "metadata": {},
   "outputs": [
    {
     "data": {
      "text/plain": [
       "0.9990732159406858"
      ]
     },
     "execution_count": 19,
     "metadata": {},
     "output_type": "execute_result"
    }
   ],
   "source": [
    "y_train_pred = pipe.predict(X_train)\n",
    "np.mean(y_train_pred==y_train)"
   ]
  },
  {
   "cell_type": "code",
   "execution_count": 20,
   "id": "bee9dff6",
   "metadata": {},
   "outputs": [
    {
     "data": {
      "text/plain": [
       "0.9288702928870293"
      ]
     },
     "execution_count": 20,
     "metadata": {},
     "output_type": "execute_result"
    }
   ],
   "source": [
    "y_test_pred = pipe.predict(X_test)\n",
    "np.mean(y_test_pred==y_test)"
   ]
  },
  {
   "cell_type": "markdown",
   "id": "45db274b",
   "metadata": {},
   "source": [
    "---"
   ]
  },
  {
   "cell_type": "code",
   "execution_count": null,
   "id": "12b2fda0",
   "metadata": {},
   "outputs": [],
   "source": []
  },
  {
   "cell_type": "code",
   "execution_count": null,
   "id": "776de0cf",
   "metadata": {},
   "outputs": [],
   "source": []
  },
  {
   "cell_type": "code",
   "execution_count": null,
   "id": "2eae178f",
   "metadata": {},
   "outputs": [],
   "source": []
  }
 ],
 "metadata": {
  "kernelspec": {
   "display_name": "Python 3 (ipykernel)",
   "language": "python",
   "name": "python3"
  },
  "language_info": {
   "codemirror_mode": {
    "name": "ipython",
    "version": 3
   },
   "file_extension": ".py",
   "mimetype": "text/x-python",
   "name": "python",
   "nbconvert_exporter": "python",
   "pygments_lexer": "ipython3",
   "version": "3.8.7"
  }
 },
 "nbformat": 4,
 "nbformat_minor": 5
}
